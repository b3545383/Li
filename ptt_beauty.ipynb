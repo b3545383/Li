{
 "cells": [
  {
   "cell_type": "code",
   "execution_count": null,
   "metadata": {
    "colab": {
     "base_uri": "https://localhost:8080/",
     "height": 68
    },
    "colab_type": "code",
    "id": "OFuzIHq4Cs7g",
    "outputId": "a0e9a22d-a88f-4756-c71c-d8524eba161c"
   },
   "outputs": [],
   "source": [
    "!pip install html5lib"
   ]
  },
  {
   "cell_type": "code",
   "execution_count": null,
   "metadata": {
    "colab": {},
    "colab_type": "code",
    "id": "N7CZot9D_S3W"
   },
   "outputs": [],
   "source": [
    "import requests\n",
    "import time\n",
    "from bs4 import BeautifulSoup\n",
    "import os\n",
    "import re\n",
    "import urllib.request\n",
    "import json\n",
    "\n",
    "\n",
    "PTT_URL = 'https://www.ptt.cc'"
   ]
  },
  {
   "cell_type": "code",
   "execution_count": null,
   "metadata": {
    "colab": {},
    "colab_type": "code",
    "id": "qNhYbRb3M2Lf"
   },
   "outputs": [],
   "source": [
    "def get_web_content(url):\n",
    "    resp = requests.get(url=url, cookies={'over18': '1'})\n",
    "    if resp.status_code != 200:\n",
    "        print('Invalid url: ' + resp.url)\n",
    "        return None\n",
    "    else:\n",
    "        return resp.text\n",
    "\n",
    "\n",
    "def get_articles(dom, date):\n",
    "    soup = BeautifulSoup(dom, 'html5lib')\n",
    "\n",
    "    paging_dev = soup.find('div', 'btn-group btn-group-paging')\n",
    "    prev_url = paging_dev.find_all('a')[1]['href']\n",
    "\n",
    "    articles = []\n",
    "    divs = soup.find_all('div', 'r-ent')\n",
    "    for div in divs:\n",
    "        if div.find('div', 'date').text.strip() == date:\n",
    "            push_count = 0\n",
    "            push_str = div.find('div', 'nrec').text\n",
    "            if push_str:\n",
    "                try:\n",
    "                    push_count = int(push_str)\n",
    "                except ValueError:\n",
    "                    if push_str == '爆':\n",
    "                        push_count = 99\n",
    "                    elif push_str.startswith('X'):\n",
    "                        push_count = -10\n",
    "\n",
    "            if div.find('a'):\n",
    "                href = div.find('a')['href']\n",
    "                title = div.find('a').text\n",
    "                author = div.find('div', 'author').text if div.find('div', 'author') else ''\n",
    "                articles.append({\n",
    "                    'title': title,\n",
    "                    'href': href,\n",
    "                    'push_count': push_count,\n",
    "                    'author': author\n",
    "                })\n",
    "    return articles, prev_url\n",
    "\n",
    "\n",
    "def parse(dom):\n",
    "    soup = BeautifulSoup(dom, 'html.parser')\n",
    "    links = soup.find(id='main-content').find_all('a')\n",
    "    img_urls = []\n",
    "    for link in links:\n",
    "        if re.match(r'^https?://(i.)?(m.)?imgur.com', link['href']):\n",
    "            img_urls.append(link['href'])\n",
    "    return img_urls\n",
    "\n",
    "\n",
    "def save(img_urls, title):\n",
    "    if img_urls:\n",
    "        try:\n",
    "            folder_name = title.strip()\n",
    "            os.makedirs(folder_name)\n",
    "            for img_url in img_urls:\n",
    "                # e.g. 'http://imgur.com/9487qqq.jpg'.split('//') -> ['http:', 'imgur.com/9487qqq.jpg']\n",
    "                if img_url.split('//')[1].startswith('m.'):\n",
    "                    img_url = img_url.replace('//m.', '//i.')\n",
    "                if not img_url.split('//')[1].startswith('i.'):\n",
    "                    img_url = img_url.split('//')[0] + '//i.' + img_url.split('//')[1]\n",
    "                if not img_url.endswith('.jpg'):\n",
    "                    img_url += '.jpg'\n",
    "                file_name = img_url.split('/')[-1]\n",
    "                urllib.request.urlretrieve(img_url, os.path.join(folder_name, file_name))\n",
    "        except Exception as e:\n",
    "            print(e)"
   ]
  },
  {
   "cell_type": "code",
   "execution_count": null,
   "metadata": {
    "colab": {
     "base_uri": "https://localhost:8080/",
     "height": 204
    },
    "colab_type": "code",
    "id": "w9HTMykYGpWF",
    "outputId": "9abe6771-98a3-45de-976b-889ed7d480b6"
   },
   "outputs": [],
   "source": [
    "def main():\n",
    "    current_page = get_web_content(PTT_URL + '/bbs/Beauty/index.html')\n",
    "    if current_page:\n",
    "        articles = []\n",
    "        date = time.strftime(\"%m/%d\").lstrip('0')\n",
    "        current_articles, prev_url = get_articles(current_page, date)\n",
    "        while current_articles:\n",
    "            articles += current_articles\n",
    "            current_page = get_web_content(PTT_URL + prev_url)\n",
    "            current_articles, prev_url = get_articles(current_page, date)\n",
    "\n",
    "        for article in articles:\n",
    "            print('Collecting beauty from:', article)\n",
    "            page = get_web_content(PTT_URL + article['href'])\n",
    "            if page:\n",
    "                img_urls = parse(page)\n",
    "                save(img_urls, article['title'])\n",
    "                article['num_image'] = len(img_urls)\n",
    "\n",
    "        with open('data.json', 'w', encoding='utf-8') as file:\n",
    "            json.dump(articles, file, indent=2, sort_keys=True, ensure_ascii=False)\n",
    "\n",
    "\n",
    "if __name__ == '__main__':\n",
    "    main()"
   ]
  },
  {
   "cell_type": "code",
   "execution_count": null,
   "metadata": {
    "colab": {},
    "colab_type": "code",
    "id": "agPkBPri5WN7"
   },
   "outputs": [],
   "source": []
  }
 ],
 "metadata": {
  "colab": {
   "name": "ptt_beauty.ipynb",
   "provenance": []
  },
  "kernelspec": {
   "display_name": "Python 3",
   "language": "python",
   "name": "python3"
  },
  "language_info": {
   "codemirror_mode": {
    "name": "ipython",
    "version": 3
   },
   "file_extension": ".py",
   "mimetype": "text/x-python",
   "name": "python",
   "nbconvert_exporter": "python",
   "pygments_lexer": "ipython3",
   "version": "3.7.5"
  }
 },
 "nbformat": 4,
 "nbformat_minor": 1
}
