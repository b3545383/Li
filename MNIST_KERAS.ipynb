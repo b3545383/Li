{
  "nbformat": 4,
  "nbformat_minor": 0,
  "metadata": {
    "colab": {
      "name": "MNIST_KERAS.ipynb",
      "provenance": [],
      "collapsed_sections": []
    },
    "kernelspec": {
      "name": "python3",
      "display_name": "Python 3"
    },
    "accelerator": "GPU"
  },
  "cells": [
    {
      "cell_type": "code",
      "metadata": {
        "id": "JOePDeCko3mG",
        "colab_type": "code",
        "outputId": "57365563-0427-4900-afe1-e02727375ab4",
        "colab": {
          "base_uri": "https://localhost:8080/",
          "height": 79
        }
      },
      "source": [
        "from tensorflow.keras.datasets import mnist\n",
        "\n",
        "from tensorflow import keras\n",
        "from keras.utils import np_utils\n",
        "from tensorflow.keras.models import Sequential\n",
        "from tensorflow.keras.layers import Dense\n",
        "from tensorflow.keras.layers import Conv2D\n",
        "from tensorflow.keras.layers import MaxPooling2D\n",
        "from tensorflow.keras.layers import Flatten\n",
        "from tensorflow.keras.layers import Dropout\n",
        "import numpy as np\n",
        "import pandas as pd\n",
        "import matplotlib.pyplot as plt\n"
      ],
      "execution_count": 0,
      "outputs": [
        {
          "output_type": "display_data",
          "data": {
            "text/html": [
              "<p style=\"color: red;\">\n",
              "The default version of TensorFlow in Colab will soon switch to TensorFlow 2.x.<br>\n",
              "We recommend you <a href=\"https://www.tensorflow.org/guide/migrate\" target=\"_blank\">upgrade</a> now \n",
              "or ensure your notebook will continue to use TensorFlow 1.x via the <code>%tensorflow_version 1.x</code> magic:\n",
              "<a href=\"https://colab.research.google.com/notebooks/tensorflow_version.ipynb\" target=\"_blank\">more info</a>.</p>\n"
            ],
            "text/plain": [
              "<IPython.core.display.HTML object>"
            ]
          },
          "metadata": {
            "tags": []
          }
        },
        {
          "output_type": "stream",
          "text": [
            "Using TensorFlow backend.\n"
          ],
          "name": "stderr"
        }
      ]
    },
    {
      "cell_type": "code",
      "metadata": {
        "id": "KnHSagSmpLt4",
        "colab_type": "code",
        "outputId": "df138cc8-60b0-45f7-dbb7-2dfd5255523b",
        "colab": {
          "base_uri": "https://localhost:8080/",
          "height": 298
        }
      },
      "source": [
        "(x_train, y_train), (x_test, y_test) = mnist.load_data()\n",
        "\n",
        "y_test_bk = y_test.copy()\n",
        "x_test_bk = x_test.copy()\n",
        "\n",
        "sub_plot = 330\n",
        "\n",
        "for i in range(0,9):\n",
        "  ax = plt.subplot(sub_plot+i+1)\n",
        "  ax.imshow(x_train[i],cmap=\"gray\")\n",
        "  ax.set_title(\"Label: \" + str(y_train[i]))\n",
        "  ax.axis(\"off\")\n",
        "plt.subplots_adjust(hspace= .5)\n",
        "plt.show()"
      ],
      "execution_count": 0,
      "outputs": [
        {
          "output_type": "stream",
          "text": [
            "Downloading data from https://storage.googleapis.com/tensorflow/tf-keras-datasets/mnist.npz\n",
            "11493376/11490434 [==============================] - 0s 0us/step\n"
          ],
          "name": "stdout"
        },
        {
          "output_type": "display_data",
          "data": {
            "image/png": "[encoded data removed]",
            "text/plain": [
              "<Figure size 432x288 with 9 Axes>"
            ]
          },
          "metadata": {
            "tags": []
          }
        }
      ]
    },
    {
      "cell_type": "code",
      "metadata": {
        "id": "6KaqbXNkqi8b",
        "colab_type": "code",
        "outputId": "de80c63f-2a90-4d62-ccd1-13573e49f885",
        "colab": {
          "base_uri": "https://localhost:8080/",
          "height": 50
        }
      },
      "source": [
        "x_train = x_train.reshape(x_train.shape[0],28,28,1).astype(\"float32\")\n",
        "x_test = x_test.reshape(x_test.shape[0],28,28,1).astype(\"float32\")\n",
        "\n",
        "print(\"x_train shape: \" , x_train.shape)\n",
        "print(\"x_test shape: \", x_test.shape)"
      ],
      "execution_count": 0,
      "outputs": [
        {
          "output_type": "stream",
          "text": [
            "x_train shape:  (60000, 28, 28, 1)\n",
            "x_test shape:  (10000, 28, 28, 1)\n"
          ],
          "name": "stdout"
        }
      ]
    },
    {
      "cell_type": "code",
      "metadata": {
        "id": "BcGuRGgWrPWU",
        "colab_type": "code",
        "outputId": "a35deef4-2ef4-4570-b51e-3a24dd92a256",
        "colab": {
          "base_uri": "https://localhost:8080/",
          "height": 67
        }
      },
      "source": [
        "#X axis normalization\n",
        "\n",
        "x_train = x_train/255\n",
        "x_test = x_test/255\n",
        "\n",
        "#Y axis OneHotEncoding\n",
        "print(y_train[0])\n",
        "y_train = np_utils.to_categorical(y_train)\n",
        "y_test =  np_utils.to_categorical(y_test)\n",
        "\n",
        "print(\"y_train Shape: \" , y_train.shape)\n",
        "print(y_train[0])"
      ],
      "execution_count": 0,
      "outputs": [
        {
          "output_type": "stream",
          "text": [
            "5\n",
            "y_train Shape:  (60000, 10)\n",
            "[0. 0. 0. 0. 0. 1. 0. 0. 0. 0.]\n"
          ],
          "name": "stdout"
        }
      ]
    },
    {
      "cell_type": "code",
      "metadata": {
        "id": "o0M5gLeSs-8E",
        "colab_type": "code",
        "outputId": "19c8271c-9a57-460c-8f63-5ce515659b19",
        "colab": {
          "base_uri": "https://localhost:8080/",
          "height": 524
        }
      },
      "source": [
        "model = Sequential()\n",
        "model.add(Conv2D(16, kernel_size=(5,5),padding=\"same\",input_shape=(28,28,1),activation=\"relu\"))\n",
        "model.add(MaxPooling2D(pool_size=(2,2)))\n",
        "\n",
        "model.add(Conv2D(32, kernel_size=(5,5), padding=\"same\", activation='relu'))\n",
        "model.add(MaxPooling2D(pool_size=(2,2)))\n",
        "\n",
        "model.add(Dropout(0.5))\n",
        "model.add(Flatten())\n",
        "model.add(Dense(128,activation=\"relu\"))\n",
        "model.add(Dropout(0.5))\n",
        "model.add(Dense(10,activation=\"softmax\"))\n",
        "\n",
        "model.compile(loss=\"categorical_crossentropy\", optimizer=\"adam\", metrics=[\"accuracy\"])\n",
        "\n",
        "model.summary()\n"
      ],
      "execution_count": 0,
      "outputs": [
        {
          "output_type": "stream",
          "text": [
            "WARNING:tensorflow:From /usr/local/lib/python3.6/dist-packages/tensorflow_core/python/ops/resource_variable_ops.py:1630: calling BaseResourceVariable.__init__ (from tensorflow.python.ops.resource_variable_ops) with constraint is deprecated and will be removed in a future version.\n",
            "Instructions for updating:\n",
            "If using Keras pass *_constraint arguments to layers.\n",
            "Model: \"sequential\"\n",
            "_________________________________________________________________\n",
            "Layer (type)                 Output Shape              Param #   \n",
            "=================================================================\n",
            "conv2d (Conv2D)              (None, 28, 28, 16)        416       \n",
            "_________________________________________________________________\n",
            "max_pooling2d (MaxPooling2D) (None, 14, 14, 16)        0         \n",
            "_________________________________________________________________\n",
            "conv2d_1 (Conv2D)            (None, 14, 14, 32)        12832     \n",
            "_________________________________________________________________\n",
            "max_pooling2d_1 (MaxPooling2 (None, 7, 7, 32)          0         \n",
            "_________________________________________________________________\n",
            "dropout (Dropout)            (None, 7, 7, 32)          0         \n",
            "_________________________________________________________________\n",
            "flatten (Flatten)            (None, 1568)              0         \n",
            "_________________________________________________________________\n",
            "dense (Dense)                (None, 128)               200832    \n",
            "_________________________________________________________________\n",
            "dropout_1 (Dropout)          (None, 128)               0         \n",
            "_________________________________________________________________\n",
            "dense_1 (Dense)              (None, 10)                1290      \n",
            "=================================================================\n",
            "Total params: 215,370\n",
            "Trainable params: 215,370\n",
            "Non-trainable params: 0\n",
            "_________________________________________________________________\n"
          ],
          "name": "stdout"
        }
      ]
    },
    {
      "cell_type": "code",
      "metadata": {
        "id": "S14vRXSCxWkL",
        "colab_type": "code",
        "outputId": "f27638d1-c19b-497c-9f79-eb1027784eda",
        "colab": {
          "base_uri": "https://localhost:8080/",
          "height": 370
        }
      },
      "source": [
        "history = model.fit(x_train, y_train, validation_split=0.2, epochs=10, batch_size=128, verbose=2)"
      ],
      "execution_count": 0,
      "outputs": [
        {
          "output_type": "stream",
          "text": [
            "Train on 48000 samples, validate on 12000 samples\n",
            "Epoch 1/10\n",
            "48000/48000 - 9s - loss: 0.4120 - acc: 0.8674 - val_loss: 0.0871 - val_acc: 0.9744\n",
            "Epoch 2/10\n",
            "48000/48000 - 2s - loss: 0.1389 - acc: 0.9582 - val_loss: 0.0600 - val_acc: 0.9823\n",
            "Epoch 3/10\n",
            "48000/48000 - 2s - loss: 0.1006 - acc: 0.9693 - val_loss: 0.0482 - val_acc: 0.9856\n",
            "Epoch 4/10\n",
            "48000/48000 - 2s - loss: 0.0846 - acc: 0.9736 - val_loss: 0.0438 - val_acc: 0.9871\n",
            "Epoch 5/10\n",
            "48000/48000 - 2s - loss: 0.0745 - acc: 0.9773 - val_loss: 0.0369 - val_acc: 0.9887\n",
            "Epoch 6/10\n",
            "48000/48000 - 2s - loss: 0.0679 - acc: 0.9796 - val_loss: 0.0336 - val_acc: 0.9898\n",
            "Epoch 7/10\n",
            "48000/48000 - 2s - loss: 0.0612 - acc: 0.9815 - val_loss: 0.0323 - val_acc: 0.9905\n",
            "Epoch 8/10\n",
            "48000/48000 - 2s - loss: 0.0572 - acc: 0.9822 - val_loss: 0.0333 - val_acc: 0.9901\n",
            "Epoch 9/10\n",
            "48000/48000 - 2s - loss: 0.0545 - acc: 0.9829 - val_loss: 0.0288 - val_acc: 0.9923\n",
            "Epoch 10/10\n",
            "48000/48000 - 2s - loss: 0.0519 - acc: 0.9844 - val_loss: 0.0282 - val_acc: 0.9917\n"
          ],
          "name": "stdout"
        }
      ]
    },
    {
      "cell_type": "code",
      "metadata": {
        "id": "yi5lreZo2YNp",
        "colab_type": "code",
        "outputId": "77657a8f-9526-4c8f-c73f-bd1fdda95bcd",
        "colab": {
          "base_uri": "https://localhost:8080/",
          "height": 101
        }
      },
      "source": [
        "loss , accuracy = model.evaluate(x_train , y_train)\n",
        "print(\"訓練集的準確度: {:.2f}\".format(accuracy))\n",
        "loss , accuracy = model.evaluate(x_test , y_test)\n",
        "print(\"測試集的準確度: {:.2f}\".format(accuracy))\n",
        "\n",
        "print(\"Saving model: mnist.h5 ...\")\n",
        "model.save(\"mnist.h5\")"
      ],
      "execution_count": 0,
      "outputs": [
        {
          "output_type": "stream",
          "text": [
            "60000/60000 [==============================] - 4s 62us/sample - loss: 0.0172 - acc: 0.9947\n",
            "訓練集的準確度: 0.99\n",
            "10000/10000 [==============================] - 1s 72us/sample - loss: 0.0201 - acc: 0.9922\n",
            "測試集的準確度: 0.99\n",
            "Saving model: mnist.h5 ...\n"
          ],
          "name": "stdout"
        }
      ]
    },
    {
      "cell_type": "code",
      "metadata": {
        "id": "OSpwZQjW5G_x",
        "colab_type": "code",
        "outputId": "e1024046-0d94-4652-cf08-7b6ba984198d",
        "colab": {
          "base_uri": "https://localhost:8080/",
          "height": 34
        }
      },
      "source": [
        "print(y_test[0].astype(int))"
      ],
      "execution_count": 0,
      "outputs": [
        {
          "output_type": "stream",
          "text": [
            "[0 0 0 0 0 0 0 1 0 0]\n"
          ],
          "name": "stdout"
        }
      ]
    },
    {
      "cell_type": "code",
      "metadata": {
        "id": "ln-1Zcf54RP1",
        "colab_type": "code",
        "outputId": "01e0e3ae-401e-4b9b-8319-4b87b1ecac58",
        "colab": {
          "base_uri": "https://localhost:8080/",
          "height": 218
        }
      },
      "source": [
        "y_pred = model.predict_classes(x_test)\n",
        "tb = pd.crosstab(y_test_bk.astype(int), y_pred.astype(int), rownames=[\"Label\"], colnames=[\"predict\"])\n",
        "print(tb)"
      ],
      "execution_count": 0,
      "outputs": [
        {
          "output_type": "stream",
          "text": [
            "predict    0     1     2     3    4    5    6     7    8    9\n",
            "Label                                                        \n",
            "0        976     0     0     0    0    0    2     1    1    0\n",
            "1          0  1133     0     0    0    0    1     1    0    0\n",
            "2          1     0  1026     1    1    0    0     2    1    0\n",
            "3          0     0     2  1006    0    1    0     0    1    0\n",
            "4          0     0     0     0  973    0    1     0    2    6\n",
            "5          1     0     0     4    0  884    1     0    1    1\n",
            "6          2     2     0     0    1    2  950     0    1    0\n",
            "7          0     2     4     3    0    0    0  1016    1    2\n",
            "8          2     0     2     2    0    1    0     1  963    3\n",
            "9          0     3     0     0    4    3    0     3    1  995\n"
          ],
          "name": "stdout"
        }
      ]
    },
    {
      "cell_type": "code",
      "metadata": {
        "id": "frGTI90wGspI",
        "colab_type": "code",
        "colab": {}
      },
      "source": [
        ""
      ],
      "execution_count": 0,
      "outputs": []
    },
    {
      "cell_type": "code",
      "metadata": {
        "id": "e0TQXBLN9pWg",
        "colab_type": "code",
        "outputId": "2bb5eb55-37d9-4dc7-eac6-01fd66b3b2e9",
        "colab": {
          "base_uri": "https://localhost:8080/",
          "height": 331
        }
      },
      "source": [
        "\n",
        "i = np.random.randint(0, len(x_test))\n",
        "\n",
        "digit = x_test_bk[i].reshape(28,28)\n",
        "x_test_digit = x_test_bk[i].reshape(1,28,28,1).astype(\"float32\")\n",
        "x_test_digit = x_test_digit/255\n",
        "\n",
        "\n",
        "plt.figure()\n",
        "plt.subplot(1,2,1)\n",
        "plt.title(\"Example of Digit:\" + str(y_test_bk[i]))\n",
        "plt.imshow(digit, cmap=\"gray\")\n",
        "plt.axis('off')\n",
        "\n",
        "print(\"Predicting.....\")\n",
        "probs = model.predict_proba(x_test_digit, batch_size=1)\n",
        "print(probs)\n",
        "\n",
        "\n",
        "plt.subplot(1,2,2)\n",
        "plt.title(\"Probabilities for Each Digit Class\")\n",
        "plt.bar(np.arange(10),probs.reshape(10), align=\"center\")\n",
        "plt.xticks(np.arange(10), np.arange(10).astype(str))\n",
        "plt.show()\n"
      ],
      "execution_count": 0,
      "outputs": [
        {
          "output_type": "stream",
          "text": [
            "Predicting.....\n",
            "[[3.3088742e-14 8.8067719e-07 2.1331725e-11 8.5261249e-11 9.9995601e-01\n",
            "  2.6008166e-08 6.9530531e-10 1.5876807e-06 1.0099667e-09 4.1604177e-05]]\n"
          ],
          "name": "stdout"
        },
        {
          "output_type": "display_data",
          "data": {
            "image/png": "[encoded data removed]",
            "text/plain": [
              "<Figure size 432x288 with 2 Axes>"
            ]
          },
          "metadata": {
            "tags": []
          }
        }
      ]
    }
  ]
}